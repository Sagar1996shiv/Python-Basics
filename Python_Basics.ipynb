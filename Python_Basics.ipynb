{
  "nbformat": 4,
  "nbformat_minor": 0,
  "metadata": {
    "colab": {
      "provenance": []
    },
    "kernelspec": {
      "name": "python3",
      "display_name": "Python 3"
    },
    "language_info": {
      "name": "python"
    }
  },
  "cells": [
    {
      "cell_type": "markdown",
      "source": [
        "# Python Basics\n"
      ],
      "metadata": {
        "id": "g1KCBDHD29-M"
      }
    },
    {
      "cell_type": "markdown",
      "source": [
        "1. Explain the key features of Python that make it a popular choice for programming ?\n",
        "      - Python is interpreted, meaning code is executed line by line. This makes debugging easier and development faster.Easily integrates with other languages like C, C++, Java, and .NET.ython abstracts many low-level details, such as memory management, so developers can focus on solving problems rather than dealing with the underlying hardware.\n",
        "2. Describe the role of predefined keywords in Python and provide examples of how they are used in a\n",
        "program\n",
        "   - Predefined keywords in Python are reserved words that have special meaning in the language. These keywords define the syntax and structure of Python programs and cannot be used as variable names, function names, or identifiers.\n",
        "   Control the flow of the program (e.g., if, else, for, while)\n",
        " 3. Compare and contrast mutable and immutable objects in Python with examples\n",
        "    - Feature\t         Mutable Objects vs Immutable Objects\n",
        "Can change after creation -\t Yes\t            No\n",
        "Stored in memory - Changes happen in-place\t  A new object is created on change\n",
        "Examples\t  -   list, dict, set, bytearray\t  int, float, str, tuple, bool, frozenset\n",
        "Performance\t- Slightly slower in hashing contexts\t  Faster and safer for keys, caching  \n",
        " 4. Discuss the different types of operators in Python and provide examples of how they are used\n",
        "  - Operators are special symbols or keywords used to perform operations on variables and values.\n",
        "  Operator\tDescription\tExample\n",
        "+\tAddition\t3 + 2 → 5\n",
        "-\tSubtraction\t3 - 2 → 1\n",
        "*\tMultiplication\t3 * 2 → 6\n",
        "/\tDivision\t3 / 2 → 1.5\n",
        "//\tFloor Division\t3 // 2 → 1\n",
        "%\tModulus (remainder)\t3 % 2 → 1\n",
        "*\tExponentiation\t3 ** 2 → 9\n",
        "5. Explain the concept of type casting in Python with examples\n",
        "   - Type casting in Python is the process of converting the value of one data type into another.\n",
        "   1. Implicit Type Casting — Example\n",
        "python\n",
        "Copy\n",
        "Edit\n",
        "a = 5        # int\n",
        "b = 2.5      # float\n",
        "\n",
        "result = a + b\n",
        "print(result)       # 7.5\n",
        "print(type(result)) # <class 'float'>\n",
        "2. Explicit Type Casting — Examples\n",
        "You choose to convert one data type into another.\n",
        "\n",
        "🔢 int() — Converts to Integer\n",
        "python\n",
        "Copy\n",
        "Edit\n",
        "x = \"10\"\n",
        "y = int(x)\n",
        "print(y + 5)  # 15\n",
        "6. How do conditional statements work in Python? Illustrate with examples\n",
        "   - Conditional statements in Python allow your program to make decisions and execute code blocks based on certain conditions. They're fundamental for controlling the flow of your program.\n",
        "7.  Describe the different types of loops in Python and their use cases with examples.\n",
        "   - Loops in Python are used to execute a block of code repeatedly until a certain condition is met. Python supports two main types of loops:\n",
        "   1. for Loop\n",
        "   example fruits = [\"apple\", \"banana\", \"cherry\"]\n",
        "\n",
        "for fruit in fruits:\n",
        "    print(fruit)\n",
        "2. while Loop\n",
        "\n",
        "  example count = 5\n",
        "\n",
        "while count > 0:\n",
        "    print(count)\n",
        "    count -= 1\n"
      ],
      "metadata": {
        "id": "dPz3HCQH3z_t"
      }
    },
    {
      "cell_type": "code",
      "execution_count": null,
      "metadata": {
        "id": "gjUur6BD2y3a"
      },
      "outputs": [],
      "source": []
    }
  ]
}